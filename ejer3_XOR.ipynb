{
  "nbformat": 4,
  "nbformat_minor": 0,
  "metadata": {
    "colab": {
      "name": "ejer3_XOR.ipynb",
      "provenance": [],
      "collapsed_sections": [
        "ces1fVGwRtD2",
        "PfNSyGWLRypS"
      ],
      "toc_visible": true,
      "authorship_tag": "ABX9TyMEwRekLTe2j6rLfWK/Ztc9"
    },
    "kernelspec": {
      "name": "python3",
      "display_name": "Python 3"
    },
    "language_info": {
      "name": "python"
    }
  },
  "cells": [
    {
      "cell_type": "markdown",
      "metadata": {
        "id": "ASzTwFM_AWqU"
      },
      "source": [
        "<a href=\"https://colab.research.google.com/github/bereml/iap/blob/master/libretas/1c_reglin.ipynb\" target=\"_parent\"><img src=\"https://colab.research.google.com/assets/colab-badge.svg\" alt=\"Open In Colab\"/></a>"
      ]
    },
    {
      "cell_type": "markdown",
      "metadata": {
        "id": "2KWVZS3SFgzJ"
      },
      "source": [
        "# Ejercicio 3\n",
        "\n",
        "## Cisneros Aguilar Sara Kenia\n",
        "Entrena una red completamente conectada para aproximar la compuerta XOR. (3 puntos)"
      ]
    },
    {
      "cell_type": "markdown",
      "metadata": {
        "id": "ces1fVGwRtD2"
      },
      "source": [
        "## 1. Preparación"
      ]
    },
    {
      "cell_type": "code",
      "metadata": {
        "id": "Sd2jmDJbw5lU"
      },
      "source": [
        "import math\n",
        "# sistema de archivos\n",
        "import os\n",
        "# números aleatorios\n",
        "import random\n",
        "\n",
        "# gráficas\n",
        "import matplotlib.pyplot as plt\n",
        "# arreglos multidimensionales\n",
        "import numpy as np\n",
        "# csv\n",
        "import pandas as pd\n",
        "\n",
        "# redes neuronales\n",
        "import torch\n",
        "import torch.nn as nn\n",
        "import torch.nn.functional as F\n",
        "import torch.optim as optim\n",
        "\n",
        "from torch.utils.data import DataLoader, TensorDataset"
      ],
      "execution_count": null,
      "outputs": []
    },
    {
      "cell_type": "code",
      "metadata": {
        "id": "Z5TNhb74xMdF"
      },
      "source": [
        "# definimos los datos\n",
        "X = np.array([\n",
        "    [0., 0.], \n",
        "    [0., 1.], \n",
        "    [1., 0.], \n",
        "    [1., 1.]\n",
        "])\n",
        "\n",
        "y_real = np.array([0,1,1,0]).reshape(-1,1)"
      ],
      "execution_count": null,
      "outputs": []
    },
    {
      "cell_type": "code",
      "metadata": {
        "colab": {
          "base_uri": "https://localhost:8080/"
        },
        "id": "W3R9DTqTyDov",
        "outputId": "f784b285-a11e-4e9e-f9f1-be422f1a4ad4"
      },
      "source": [
        "x = torch.tensor(X)\n",
        "x = x.view(-1, 2).type(torch.float32)\n",
        "y = torch.tensor(y_real)\n",
        "y = y.view(-1, 1).type(torch.float32)\n",
        "print(x.shape)\n",
        "print(y.shape)"
      ],
      "execution_count": null,
      "outputs": [
        {
          "output_type": "stream",
          "text": [
            "torch.Size([4, 2])\n",
            "torch.Size([4, 1])\n"
          ],
          "name": "stdout"
        }
      ]
    },
    {
      "cell_type": "code",
      "metadata": {
        "id": "qhHWzNyCyoP2"
      },
      "source": [
        "# creamos un DataLoader\n",
        "ds = TensorDataset(x, y)\n",
        "dl = DataLoader(ds, shuffle=True)"
      ],
      "execution_count": null,
      "outputs": []
    },
    {
      "cell_type": "markdown",
      "metadata": {
        "id": "PfNSyGWLRypS"
      },
      "source": [
        "## 2. Modelo"
      ]
    },
    {
      "cell_type": "code",
      "metadata": {
        "id": "HaIyBlItGvQy"
      },
      "source": [
        "# modelo\n",
        "class XOR(nn.Module):\n",
        "    #se define el inicializador\n",
        "    def __init__(self, channels_1, channels_2):\n",
        "        super(XOR, self).__init__()\n",
        "        self.channels_1 = channels_1\n",
        "        self.channels_2 = channels_2\n",
        "\n",
        "        self.xor = nn.Sequential(\n",
        "            nn.Linear(2, self.channels_1),\n",
        "            nn.ReLU(),\n",
        "            nn.Linear(self.channels_1, self.channels_2),\n",
        "            nn.ReLU(),\n",
        "            nn.Linear(self.channels_2, 1),\n",
        "        )\n",
        "    # método para inferencia\n",
        "    def forward(self, x):\n",
        "        return self.xor(x)"
      ],
      "execution_count": null,
      "outputs": []
    },
    {
      "cell_type": "code",
      "metadata": {
        "id": "6AU7huKfy8aK"
      },
      "source": [
        "# optimizador\n",
        "def train(model, dl, alpha = 1e-3, epochs = 100):\n",
        "    loss_fn = torch.nn.BCEWithLogitsLoss(size_average=False)\n",
        "    opt = optim.SGD(model.parameters(), lr = alpha)\n",
        "\n",
        "    # historial de pérdida\n",
        "    loss_hist = []\n",
        "    # ciclo de entrenamiento\n",
        "    for epoch in range(epochs):\n",
        "        loss_hist_ = []\n",
        "        # entrenamiento de una época\n",
        "        for x, y_true in dl:\n",
        "            # hacemos inferencia para obtener los logits\n",
        "            y_lgts = model(x)\n",
        "            # calculamos de pérdida\n",
        "            loss = loss_fn(y_lgts, y_true)\n",
        "            # vaciamos los gradientes\n",
        "            opt.zero_grad()\n",
        "            # retropropagamos\n",
        "            loss.backward()\n",
        "            # actulizamos parámetros\n",
        "            opt.step()\n",
        "\n",
        "            # guardamos historial de pérdida\n",
        "            loss_hist_.append(loss.item())\n",
        "            \n",
        "        # imprimimos la pérdida de la época\n",
        "        loss = np.mean(loss_hist_)\n",
        "        loss_hist.append(loss)\n",
        "    return loss_hist"
      ],
      "execution_count": null,
      "outputs": []
    },
    {
      "cell_type": "markdown",
      "metadata": {
        "id": "mW7ywg98R5ON"
      },
      "source": [
        "## 3. Entrenamiento"
      ]
    },
    {
      "cell_type": "code",
      "metadata": {
        "colab": {
          "base_uri": "https://localhost:8080/",
          "height": 492
        },
        "id": "jpc4cJ-yK_is",
        "outputId": "b971303c-9b7f-4e9a-c9a3-f856a516ff15"
      },
      "source": [
        "channels_1 = 30\n",
        "channels_2 = 15\n",
        "epochs = 1000\n",
        "alpha = 0.01\n",
        "model = XOR(channels_1 = channels_1, channels_2 = channels_2)\n",
        "loss = train(model, dl, epochs=epochs, alpha=alpha)\n",
        "print(model)\n",
        "plt.figure()\n",
        "plt.plot(range(len(loss)), loss, color='tab:red')\n",
        "plt.title(f'loss (alpha = {alpha}, steps = {epochs})')\n",
        "plt.show()"
      ],
      "execution_count": null,
      "outputs": [
        {
          "output_type": "stream",
          "text": [
            "/usr/local/lib/python3.7/dist-packages/torch/nn/_reduction.py:42: UserWarning: size_average and reduce args will be deprecated, please use reduction='sum' instead.\n",
            "  warnings.warn(warning.format(ret))\n"
          ],
          "name": "stderr"
        },
        {
          "output_type": "stream",
          "text": [
            "XOR(\n",
            "  (xor): Sequential(\n",
            "    (0): Linear(in_features=2, out_features=30, bias=True)\n",
            "    (1): ReLU()\n",
            "    (2): Linear(in_features=30, out_features=15, bias=True)\n",
            "    (3): ReLU()\n",
            "    (4): Linear(in_features=15, out_features=1, bias=True)\n",
            "  )\n",
            ")\n"
          ],
          "name": "stdout"
        },
        {
          "output_type": "display_data",
          "data": {
            "image/png": "[encoded data removed]",
            "text/plain": [
              "<Figure size 432x288 with 1 Axes>"
            ]
          },
          "metadata": {
            "tags": [],
            "needs_background": "light"
          }
        }
      ]
    },
    {
      "cell_type": "code",
      "metadata": {
        "colab": {
          "base_uri": "https://localhost:8080/",
          "height": 492
        },
        "id": "hbG87Y-Q40dS",
        "outputId": "31131245-2251-468e-c765-9b7de2635395"
      },
      "source": [
        "channels_1 = 30\n",
        "channels_2 = 15\n",
        "epochs = 600\n",
        "alpha = 0.02\n",
        "model = XOR(channels_1 = channels_1, channels_2 = channels_2)\n",
        "loss = train(model, dl, epochs=epochs, alpha=alpha)\n",
        "print(model)\n",
        "plt.figure()\n",
        "plt.plot(range(len(loss)), loss, color='tab:red')\n",
        "plt.title(f'loss (alpha = {alpha}, steps = {epochs})')\n",
        "plt.show()"
      ],
      "execution_count": null,
      "outputs": [
        {
          "output_type": "stream",
          "text": [
            "/usr/local/lib/python3.7/dist-packages/torch/nn/_reduction.py:42: UserWarning: size_average and reduce args will be deprecated, please use reduction='sum' instead.\n",
            "  warnings.warn(warning.format(ret))\n"
          ],
          "name": "stderr"
        },
        {
          "output_type": "stream",
          "text": [
            "XOR(\n",
            "  (xor): Sequential(\n",
            "    (0): Linear(in_features=2, out_features=30, bias=True)\n",
            "    (1): ReLU()\n",
            "    (2): Linear(in_features=30, out_features=15, bias=True)\n",
            "    (3): ReLU()\n",
            "    (4): Linear(in_features=15, out_features=1, bias=True)\n",
            "  )\n",
            ")\n"
          ],
          "name": "stdout"
        },
        {
          "output_type": "display_data",
          "data": {
            "image/png": "[encoded data removed]",
            "text/plain": [
              "<Figure size 432x288 with 1 Axes>"
            ]
          },
          "metadata": {
            "tags": [],
            "needs_background": "light"
          }
        }
      ]
    },
    {
      "cell_type": "code",
      "metadata": {
        "colab": {
          "base_uri": "https://localhost:8080/",
          "height": 492
        },
        "id": "2VDNVsJ2N4X3",
        "outputId": "8de2a107-7662-4747-a060-8ab371b4c327"
      },
      "source": [
        "channels_1 = 10\n",
        "channels_2 = 5\n",
        "epochs = 600\n",
        "alpha = 0.02\n",
        "model = XOR(channels_1 = channels_1, channels_2 = channels_2)\n",
        "loss = train(model, dl, epochs=epochs, alpha=alpha)\n",
        "print(model)\n",
        "plt.figure()\n",
        "plt.plot(range(len(loss)), loss, color='tab:red')\n",
        "plt.title(f'loss (alpha = {alpha}, steps = {epochs})')\n",
        "plt.show()"
      ],
      "execution_count": null,
      "outputs": [
        {
          "output_type": "stream",
          "text": [
            "/usr/local/lib/python3.7/dist-packages/torch/nn/_reduction.py:42: UserWarning: size_average and reduce args will be deprecated, please use reduction='sum' instead.\n",
            "  warnings.warn(warning.format(ret))\n"
          ],
          "name": "stderr"
        },
        {
          "output_type": "stream",
          "text": [
            "XOR(\n",
            "  (xor): Sequential(\n",
            "    (0): Linear(in_features=2, out_features=10, bias=True)\n",
            "    (1): ReLU()\n",
            "    (2): Linear(in_features=10, out_features=5, bias=True)\n",
            "    (3): ReLU()\n",
            "    (4): Linear(in_features=5, out_features=1, bias=True)\n",
            "  )\n",
            ")\n"
          ],
          "name": "stdout"
        },
        {
          "output_type": "display_data",
          "data": {
            "image/png": "[encoded data removed]",
            "text/plain": [
              "<Figure size 432x288 with 1 Axes>"
            ]
          },
          "metadata": {
            "tags": [],
            "needs_background": "light"
          }
        }
      ]
    },
    {
      "cell_type": "markdown",
      "metadata": {
        "id": "4o8C-_ynS1J0"
      },
      "source": [
        "Como pudimos ver, en el primer experimento con 1000 epocas y una tasa de 0.01 se alcanza la convergencia  apartir de la epoca 800, en un intento de reducir las epocas se utilizan 600 con una tasa de 0.02 alcanzando la convergencia a las 400 epocas, sin cambiar la arquitectura de la red, en este caso vemos utilizando la mitad de epocas y el doble de la tasa de aprendizaje logramos la misma convergencia.\n",
        "\n",
        "En un intento de disminuir la cantidad de neuronas se considera un tercio de las iniciales y se puede ver que con este cambio se requieren más epocas."
      ]
    },
    {
      "cell_type": "code",
      "metadata": {
        "colab": {
          "base_uri": "https://localhost:8080/",
          "height": 492
        },
        "id": "Er64943ZUFOC",
        "outputId": "0b8af1a2-862d-4bb8-802f-b757af05af8a"
      },
      "source": [
        "channels_1 = 10\n",
        "channels_2 = 5\n",
        "epochs = 1000\n",
        "alpha = 0.02\n",
        "model = XOR(channels_1 = channels_1, channels_2 = channels_2)\n",
        "loss = train(model, dl, epochs=epochs, alpha=alpha)\n",
        "print(model)\n",
        "plt.figure()\n",
        "plt.plot(range(len(loss)), loss, color='tab:red')\n",
        "plt.title(f'loss (alpha = {alpha}, steps = {epochs})')\n",
        "plt.show()"
      ],
      "execution_count": null,
      "outputs": [
        {
          "output_type": "stream",
          "text": [
            "/usr/local/lib/python3.7/dist-packages/torch/nn/_reduction.py:42: UserWarning: size_average and reduce args will be deprecated, please use reduction='sum' instead.\n",
            "  warnings.warn(warning.format(ret))\n"
          ],
          "name": "stderr"
        },
        {
          "output_type": "stream",
          "text": [
            "XOR(\n",
            "  (xor): Sequential(\n",
            "    (0): Linear(in_features=2, out_features=10, bias=True)\n",
            "    (1): ReLU()\n",
            "    (2): Linear(in_features=10, out_features=5, bias=True)\n",
            "    (3): ReLU()\n",
            "    (4): Linear(in_features=5, out_features=1, bias=True)\n",
            "  )\n",
            ")\n"
          ],
          "name": "stdout"
        },
        {
          "output_type": "display_data",
          "data": {
            "image/png": "[encoded data removed]",
            "text/plain": [
              "<Figure size 432x288 with 1 Axes>"
            ]
          },
          "metadata": {
            "tags": [],
            "needs_background": "light"
          }
        }
      ]
    }
  ]
}